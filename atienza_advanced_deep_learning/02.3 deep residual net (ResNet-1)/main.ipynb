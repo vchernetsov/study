{
 "cells": [
  {
   "cell_type": "code",
   "execution_count": 5,
   "metadata": {},
   "outputs": [],
   "source": [
    "from contextlib import closing\n",
    "import io\n",
    "import numpy\n",
    "from copy import deepcopy\n",
    "\n",
    "from matplotlib import pyplot\n",
    "from tensorflow.keras.models import Model, Sequential\n",
    "from tensorflow.keras.models import load_model\n",
    "from tensorflow.keras.layers import (\n",
    "    Add,\n",
    "    Activation,\n",
    "    BatchNormalization,\n",
    "    Conv2D,\n",
    "    Dense,\n",
    "    GlobalAveragePooling2D,\n",
    "    Dropout,\n",
    "    Flatten,\n",
    "    concatenate,\n",
    "    Input,\n",
    "    InputLayer,\n",
    "    MaxPooling2D,\n",
    "    ReLU,\n",
    ")\n",
    "from tensorflow.keras.utils import to_categorical, plot_model\n",
    "from tensorflow.keras.datasets import mnist"
   ]
  },
  {
   "cell_type": "code",
   "execution_count": 6,
   "metadata": {},
   "outputs": [],
   "source": [
    "# ---------- Prepare data section ---------- #\n",
    "# load mnist dataset\n",
    "(x_train, y_train), (x_test, y_test) = mnist.load_data()\n",
    "\n",
    "# declare num of training samples\n",
    "num_labels = len(numpy.unique(y_train))\n",
    "\n",
    "# image dimensions (assumed square)\n",
    "image_size = x_train.shape[1]\n",
    "input_size = image_size * image_size\n",
    "\n",
    "# convert a single list to categorical list of lists\n",
    "y_train = to_categorical(y_train)\n",
    "y_test = to_categorical(y_test)"
   ]
  },
  {
   "cell_type": "code",
   "execution_count": 7,
   "metadata": {},
   "outputs": [],
   "source": [
    "\n",
    "\n",
    "# Определяем Residual Block\n",
    "def residual_block(x, filters, stride=1):\n",
    "    \"\"\"\n",
    "    Реализует остаточный блок с двумя сверточными слоями.\n",
    "    :param x: Входной тензор.\n",
    "    :param filters: Число фильтров.\n",
    "    :param stride: Шаг свёртки (для изменения размеров).\n",
    "    :return: Выходной тензор.\n",
    "    \"\"\"\n",
    "    shortcut = x\n",
    "    x = Conv2D(filters, kernel_size=3, strides=stride, padding='same', use_bias=False)(x)\n",
    "    x = BatchNormalization()(x)\n",
    "    x = ReLU()(x)\n",
    "    x = Conv2D(filters, kernel_size=3, strides=1, padding='same', use_bias=False)(x)\n",
    "    x = BatchNormalization()(x)\n",
    "\n",
    "    # Пропускное соединение\n",
    "    if stride != 1 or shortcut.shape[-1] != filters:\n",
    "        shortcut = Conv2D(filters, kernel_size=1, strides=stride, padding='same', use_bias=False)(shortcut)\n",
    "        shortcut = BatchNormalization()(shortcut)\n",
    "\n",
    "    # Суммирование и активация\n",
    "    x = Add()([x, shortcut])\n",
    "    x = ReLU()(x)\n",
    "    return x"
   ]
  },
  {
   "cell_type": "code",
   "execution_count": null,
   "metadata": {},
   "outputs": [
    {
     "name": "stdout",
     "output_type": "stream",
     "text": [
      "You must install pydot (`pip install pydot`) and install graphviz (see instructions at https://graphviz.gitlab.io/download/) for plot_model to work.\n"
     ]
    }
   ],
   "source": [
    "\n",
    "# network parameters\n",
    "BATCH_SIZE = 64\n",
    "HIDDEN_UNITS = 128\n",
    "DROPOUT = 0.2\n",
    "KERNEL_SIZE = 3 \n",
    "POOL_SIZE = 2\n",
    "FILTERS = 64\n",
    "EPOCHS = 20\n",
    "input_shape = (image_size, image_size, 1)\n",
    "\n",
    "def build_model(units=HIDDEN_UNITS, dropout=DROPOUT, input_size=input_size,\n",
    "                num_labels=num_labels, kernel_size=KERNEL_SIZE, pool_size=POOL_SIZE,\n",
    "                filters=FILTERS):\n",
    "\n",
    "\n",
    "    inputs = Input(shape=input_shape)\n",
    "\n",
    "    # Начальный сверточный слой\n",
    "    x = Conv2D(16, kernel_size=3, strides=1, padding='same', use_bias=False)(inputs)\n",
    "    x = BatchNormalization()(x)\n",
    "    x = ReLU()(x)\n",
    "\n",
    "    # Первый уровень (stride=1)\n",
    "    x = residual_block(x, filters=16, stride=1)\n",
    "    x = residual_block(x, filters=16, stride=1)\n",
    "\n",
    "    # Второй уровень (stride=2)\n",
    "    x = residual_block(x, filters=32, stride=2)\n",
    "    x = residual_block(x, filters=32, stride=1)\n",
    "\n",
    "    # Третий уровень (stride=2)\n",
    "    x = residual_block(x, filters=64, stride=2)\n",
    "    x = residual_block(x, filters=64, stride=1)\n",
    "\n",
    "    # Среднее глобальное объединение и финальный полносвязный слой\n",
    "    x = GlobalAveragePooling2D()(x)\n",
    "    outputs = Dense(10, activation='softmax')(x)\n",
    "\n",
    "    model = Model(inputs, outputs)\n",
    "    return model\n",
    "\n",
    "model = build_model()\n",
    "#plot_model(model, to_file='architecture.png', show_shapes=True, show_layer_names=True)\n",
    "\n",
    "# close file handler at the end of context execution\n",
    "with closing(io.StringIO()) as fh:\n",
    "    model.summary(print_fn=lambda x: fh.write(x + \"\\n\"))\n",
    "    summary_str = fh.getvalue()\n",
    "\n",
    "# set up image representation\n",
    "pyplot.figure(figsize=(12, 6))\n",
    "pyplot.text(0, 1, summary_str, fontsize=12, family='monospace', va='top')\n",
    "pyplot.axis('off')\n",
    "# save as PNG\n",
    "pyplot.savefig('model-summary.png', bbox_inches='tight')\n",
    "pyplot.close()"
   ]
  },
  {
   "cell_type": "code",
   "execution_count": null,
   "metadata": {},
   "outputs": [],
   "source": [
    "# Компиляция модели\n",
    "model.compile(optimizer='adam',\n",
    "            loss='categorical_crossentropy',\n",
    "            metrics=['accuracy'])\n",
    "\n",
    "# Обучение модели\n",
    "model.fit(x_train, y_train, batch_size=64, epochs=5, validation_split=0.1)\n",
    "\n",
    "# Оценка на тестовых данных\n",
    "test_loss, test_acc = model.evaluate(x_test, y_test, verbose=2)\n",
    "print(f\"Test accuracy: {test_acc * 100:.2f}%\")"
   ]
  },
  {
   "cell_type": "code",
   "execution_count": null,
   "metadata": {},
   "outputs": [],
   "source": [
    "\n"
   ]
  },
  {
   "cell_type": "code",
   "execution_count": null,
   "metadata": {},
   "outputs": [],
   "source": []
  }
 ],
 "metadata": {
  "kernelspec": {
   "display_name": "Python 3 (ipykernel)",
   "language": "python",
   "name": "python3"
  },
  "language_info": {
   "codemirror_mode": {
    "name": "ipython",
    "version": 3
   },
   "file_extension": ".py",
   "mimetype": "text/x-python",
   "name": "python",
   "nbconvert_exporter": "python",
   "pygments_lexer": "ipython3",
   "version": "3.8.10"
  }
 },
 "nbformat": 4,
 "nbformat_minor": 2
}
