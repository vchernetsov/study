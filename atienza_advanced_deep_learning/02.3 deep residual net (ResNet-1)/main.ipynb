{
 "cells": [
  {
   "cell_type": "code",
   "execution_count": 1,
   "metadata": {},
   "outputs": [
    {
     "name": "stderr",
     "output_type": "stream",
     "text": [
      "2025-01-06 09:00:32.937228: I tensorflow/core/platform/cpu_feature_guard.cc:182] This TensorFlow binary is optimized to use available CPU instructions in performance-critical operations.\n",
      "To enable the following instructions: AVX2 FMA, in other operations, rebuild TensorFlow with the appropriate compiler flags.\n"
     ]
    }
   ],
   "source": [
    "from contextlib import closing\n",
    "import io\n",
    "import numpy\n",
    "\n",
    "from matplotlib import pyplot\n",
    "from tensorflow.keras.models import Model\n",
    "from tensorflow.keras.models import load_model\n",
    "from tensorflow.keras.layers import (\n",
    "    Add,\n",
    "    BatchNormalization,\n",
    "    Conv2D,\n",
    "    Dense,\n",
    "    GlobalAveragePooling2D,\n",
    "    Input,\n",
    "    ReLU,\n",
    ")\n",
    "from tensorflow.keras.utils import to_categorical, plot_model\n",
    "from tensorflow.keras.datasets import mnist"
   ]
  },
  {
   "cell_type": "code",
   "execution_count": 7,
   "metadata": {},
   "outputs": [],
   "source": [
    "# ---------- Prepare data section ---------- #\n",
    "# load mnist dataset\n",
    "(x_train, y_train), (x_test, y_test) = mnist.load_data()\n",
    "\n",
    "# declare num of training samples\n",
    "num_labels = len(numpy.unique(y_train))\n",
    "\n",
    "# image dimensions (assumed square)\n",
    "image_size = x_train.shape[1]\n",
    "input_size = image_size * image_size\n",
    "x_train = x_train[..., None]\n",
    "x_test = x_test[..., None]\n",
    "# convert a single list to categorical list of lists\n",
    "y_train = to_categorical(y_train)\n",
    "y_test = to_categorical(y_test)"
   ]
  },
  {
   "cell_type": "code",
   "execution_count": 8,
   "metadata": {},
   "outputs": [],
   "source": [
    "# Определяем Residual Block\n",
    "def residual_block(x, filters, stride=1):\n",
    "    \"\"\"\n",
    "    Реализует остаточный блок с двумя сверточными слоями.\n",
    "    :param x: Входной тензор.\n",
    "    :param filters: Число фильтров.\n",
    "    :param stride: Шаг свёртки (для изменения размеров).\n",
    "    :return: Выходной тензор.\n",
    "    \"\"\"\n",
    "    shortcut = x\n",
    "    x = Conv2D(filters, kernel_size=3, strides=stride, padding='same', use_bias=False)(x)\n",
    "    x = BatchNormalization()(x)\n",
    "    x = ReLU()(x)\n",
    "    x = Conv2D(filters, kernel_size=3, strides=1, padding='same', use_bias=False)(x)\n",
    "    x = BatchNormalization()(x)\n",
    "\n",
    "    # Пропускное соединение\n",
    "    if stride != 1 or shortcut.shape[-1] != filters:\n",
    "        shortcut = Conv2D(filters, kernel_size=1, strides=stride, padding='same', use_bias=False)(shortcut)\n",
    "        shortcut = BatchNormalization()(shortcut)\n",
    "\n",
    "    # Суммирование и активация\n",
    "    x = Add()([x, shortcut])\n",
    "    x = ReLU()(x)\n",
    "    return x"
   ]
  },
  {
   "cell_type": "code",
   "execution_count": 9,
   "metadata": {},
   "outputs": [],
   "source": [
    "# network parameters\n",
    "BATCH_SIZE = 64\n",
    "HIDDEN_UNITS = 128\n",
    "DROPOUT = 0.2\n",
    "KERNEL_SIZE = 3 \n",
    "POOL_SIZE = 2\n",
    "FILTERS = 64\n",
    "EPOCHS = 20\n",
    "input_shape = (image_size, image_size, 1)\n",
    "\n",
    "def build_model(units=HIDDEN_UNITS, dropout=DROPOUT, input_size=input_size,\n",
    "                num_labels=num_labels, kernel_size=KERNEL_SIZE, pool_size=POOL_SIZE,\n",
    "                filters=FILTERS):\n",
    "\n",
    "    inputs = Input(shape=input_shape)\n",
    "\n",
    "    # Начальный сверточный слой\n",
    "    x = Conv2D(16, kernel_size=3, strides=1, padding='same', use_bias=False)(inputs)\n",
    "    x = BatchNormalization()(x)\n",
    "    x = ReLU()(x)\n",
    "\n",
    "    # Первый уровень (stride=1)\n",
    "    x = residual_block(x, filters=16, stride=1)\n",
    "    x = residual_block(x, filters=16, stride=1)\n",
    "\n",
    "    # Второй уровень (stride=2)\n",
    "    x = residual_block(x, filters=32, stride=2)\n",
    "    x = residual_block(x, filters=32, stride=1)\n",
    "\n",
    "    # Третий уровень (stride=2)\n",
    "    x = residual_block(x, filters=64, stride=2)\n",
    "    x = residual_block(x, filters=64, stride=1)\n",
    "\n",
    "    # Среднее глобальное объединение и финальный полносвязный слой\n",
    "    x = GlobalAveragePooling2D()(x)\n",
    "    outputs = Dense(10, activation='softmax')(x)\n",
    "\n",
    "    model = Model(inputs, outputs)\n",
    "    return model\n",
    "\n",
    "model = build_model()\n",
    "#plot_model(model, to_file='architecture.png', show_shapes=True, show_layer_names=True)\n",
    "\n",
    "# close file handler at the end of context execution\n",
    "with closing(io.StringIO()) as fh:\n",
    "    model.summary(print_fn=lambda x: fh.write(x + \"\\n\"))\n",
    "    summary_str = fh.getvalue()\n",
    "\n",
    "# set up image representation\n",
    "pyplot.figure(figsize=(12, 6))\n",
    "pyplot.text(0, 1, summary_str, fontsize=12, family='monospace', va='top')\n",
    "pyplot.axis('off')\n",
    "# save as PNG\n",
    "pyplot.savefig('model-summary.png', bbox_inches='tight')\n",
    "pyplot.close()\n"
   ]
  },
  {
   "cell_type": "code",
   "execution_count": 11,
   "metadata": {},
   "outputs": [
    {
     "name": "stdout",
     "output_type": "stream",
     "text": [
      "Epoch 1/20\n",
      "938/938 [==============================] - 15s 11ms/step - loss: 0.0039 - accuracy: 0.9988\n",
      "Epoch 2/20\n",
      "938/938 [==============================] - 10s 11ms/step - loss: 0.0052 - accuracy: 0.9984\n",
      "Epoch 3/20\n",
      "938/938 [==============================] - 10s 11ms/step - loss: 0.0041 - accuracy: 0.9986\n",
      "Epoch 4/20\n",
      "938/938 [==============================] - 10s 11ms/step - loss: 0.0044 - accuracy: 0.9987\n",
      "Epoch 5/20\n",
      "938/938 [==============================] - 10s 11ms/step - loss: 0.0037 - accuracy: 0.9987\n",
      "Epoch 6/20\n",
      "938/938 [==============================] - 10s 11ms/step - loss: 0.0033 - accuracy: 0.9987\n",
      "Epoch 7/20\n",
      "938/938 [==============================] - 10s 11ms/step - loss: 0.0023 - accuracy: 0.9993\n",
      "Epoch 8/20\n",
      "938/938 [==============================] - 10s 11ms/step - loss: 0.0042 - accuracy: 0.9986\n",
      "Epoch 9/20\n",
      "938/938 [==============================] - 10s 11ms/step - loss: 0.0016 - accuracy: 0.9995\n",
      "Epoch 10/20\n",
      "938/938 [==============================] - 10s 11ms/step - loss: 0.0039 - accuracy: 0.9987\n",
      "Epoch 11/20\n",
      "938/938 [==============================] - 10s 11ms/step - loss: 0.0029 - accuracy: 0.9989\n",
      "Epoch 12/20\n",
      "938/938 [==============================] - 10s 11ms/step - loss: 0.0014 - accuracy: 0.9997\n",
      "Epoch 13/20\n",
      "938/938 [==============================] - 10s 11ms/step - loss: 0.0047 - accuracy: 0.9983\n",
      "Epoch 14/20\n",
      "938/938 [==============================] - 10s 11ms/step - loss: 0.0022 - accuracy: 0.9992\n",
      "Epoch 15/20\n",
      "938/938 [==============================] - 10s 11ms/step - loss: 0.0015 - accuracy: 0.9995\n",
      "Epoch 16/20\n",
      "938/938 [==============================] - 10s 11ms/step - loss: 0.0034 - accuracy: 0.9988\n",
      "Epoch 17/20\n",
      "938/938 [==============================] - 10s 11ms/step - loss: 0.0020 - accuracy: 0.9993\n",
      "Epoch 18/20\n",
      "938/938 [==============================] - 11s 11ms/step - loss: 0.0019 - accuracy: 0.9995\n",
      "Epoch 19/20\n",
      "938/938 [==============================] - 11s 11ms/step - loss: 0.0014 - accuracy: 0.9995\n",
      "Epoch 20/20\n",
      "938/938 [==============================] - 11s 11ms/step - loss: 0.0029 - accuracy: 0.9990\n"
     ]
    }
   ],
   "source": [
    "# Компиляция модели\n",
    "# model.compile(optimizer='adam',\n",
    "#             loss='categorical_crossentropy',\n",
    "#             metrics=['accuracy'])\n",
    "\n",
    "# # Обучение модели\n",
    "# #model.fit(x_train, y_train, batch_size=64, epochs=5, validation_split=0.1)\n",
    "\n",
    "# # Оценка на тестовых данных\n",
    "# test_loss, test_acc = model.evaluate(x_test, y_test, verbose=2)\n",
    "# print(f\"Test accuracy: {test_acc * 100:.2f}%\")\n",
    "\n",
    "\n",
    "\n",
    "# loss function for one-hot vector\n",
    "# use of adam optimizer\n",
    "# accuracy is good metric for classification tasks\n",
    "model.compile(loss='categorical_crossentropy', optimizer='adam', metrics=['accuracy'])\n",
    "history = model.fit(x_train, y_train, epochs=EPOCHS, batch_size=BATCH_SIZE)\n",
    "# validate the model on test dataset to determine generalization\n",
    "_, acc = model.evaluate(x_test, y_test, batch_size=BATCH_SIZE, verbose=0)\n",
    "model.save('model.keras')"
   ]
  },
  {
   "cell_type": "code",
   "execution_count": 12,
   "metadata": {},
   "outputs": [
    {
     "data": {
      "image/png": "[encoded data removed]",
      "text/plain": [
       "<Figure size 640x480 with 1 Axes>"
      ]
     },
     "metadata": {},
     "output_type": "display_data"
    },
    {
     "name": "stdout",
     "output_type": "stream",
     "text": [
      "313/313 - 1s - loss: 0.0222 - accuracy: 0.9943 - 749ms/epoch - 2ms/step\n",
      "Final model accuracy: 99.430%\n"
     ]
    }
   ],
   "source": [
    "pyplot.plot(history.history['accuracy'], label='accuracy')\n",
    "pyplot.xlabel('Epoch')\n",
    "pyplot.ylabel('Accuracy')\n",
    "pyplot.ylim([0.5, 1])\n",
    "pyplot.legend(loc='lower right')\n",
    "pyplot.savefig(\"accuracy-history.png\")\n",
    "pyplot.show()\n",
    "test_loss, test_acc = model.evaluate(x_test, y_test, verbose=2)\n",
    "print(f\"Final model accuracy: {test_acc*100:.3f}%\", )"
   ]
  },
  {
   "cell_type": "code",
   "execution_count": null,
   "metadata": {},
   "outputs": [],
   "source": []
  },
  {
   "cell_type": "code",
   "execution_count": null,
   "metadata": {},
   "outputs": [],
   "source": []
  },
  {
   "cell_type": "code",
   "execution_count": null,
   "metadata": {},
   "outputs": [],
   "source": []
  },
  {
   "cell_type": "code",
   "execution_count": null,
   "metadata": {},
   "outputs": [],
   "source": [
    "\n"
   ]
  },
  {
   "cell_type": "code",
   "execution_count": null,
   "metadata": {},
   "outputs": [],
   "source": []
  }
 ],
 "metadata": {
  "kernelspec": {
   "display_name": "Python 3 (ipykernel)",
   "language": "python",
   "name": "python3"
  },
  "language_info": {
   "codemirror_mode": {
    "name": "ipython",
    "version": 3
   },
   "file_extension": ".py",
   "mimetype": "text/x-python",
   "name": "python",
   "nbconvert_exporter": "python",
   "pygments_lexer": "ipython3",
   "version": "3.8.10"
  }
 },
 "nbformat": 4,
 "nbformat_minor": 2
}
