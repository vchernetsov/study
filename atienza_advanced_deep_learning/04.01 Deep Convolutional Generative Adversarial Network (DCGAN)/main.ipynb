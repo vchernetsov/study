{
 "cells": [
  {
   "cell_type": "code",
   "execution_count": null,
   "id": "77b18cee",
   "metadata": {},
   "outputs": [],
   "source": [
    "def build_discriminator(inputs, labels, image_size):\n",
    "    kernel_size = 3\n",
    "    layer_filters = [32, 64, 128, 256]\n",
    "\n",
    "    x = inputs\n",
    "\n",
    "    y = Dense(64, activation=\"relu\")(x)\n",
    "    y = Reshape((image_size, image_size, 1))(y)\n",
    "    x = concatenate([x, y])\n",
    "\n",
    "    for filters in layer_filters:\n",
    "        strides = 2\n",
    "        if filters == layer_filters[-1]:\n",
    "            strides = 1\n",
    "        x = LeakyReLU(alpha=0.2)(x)\n",
    "        x = Conv2D(filters=filters, kernel_size=kernel_size, strides=strides, padding=\"same\")(x)\n",
    "    x = Flatten()(x)\n",
    "    x = Dense(1, activation=\"sigmoid\")(x)\n",
    "    discriminator = Model(inputs=[inputs, labels], outputs=x, name=\"discriminator\")\n",
    "    return discriminator"
   ]
  }
 ],
 "metadata": {
  "kernelspec": {
   "display_name": "Python 3 (ipykernel)",
   "language": "python",
   "name": "python3"
  },
  "language_info": {
   "codemirror_mode": {
    "name": "ipython",
    "version": 3
   },
   "file_extension": ".py",
   "mimetype": "text/x-python",
   "name": "python",
   "nbconvert_exporter": "python",
   "pygments_lexer": "ipython3",
   "version": "3.8.10"
  }
 },
 "nbformat": 5,
 "nbformat_minor": 9
}
