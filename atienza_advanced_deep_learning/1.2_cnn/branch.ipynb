{
 "cells": [
  {
   "cell_type": "code",
   "id": "initial_id",
   "metadata": {
    "collapsed": true,
    "ExecuteTime": {
     "end_time": "2024-12-25T22:56:39.126558Z",
     "start_time": "2024-12-25T22:56:19.315460Z"
    }
   },
   "source": [
    "import numpy as np\n",
    "import matplotlib.pyplot as plt\n",
    "from tensorflow.keras.datasets import mnist\n",
    "from tensorflow.keras.utils import to_categorical\n",
    "from tensorflow.keras.models import Model\n",
    "from tensorflow.keras.layers import Input, Conv2D, MaxPooling2D, Flatten, Dropout, Dense, Activation\n",
    "\n",
    "# 1. Загружаем данные MNIST\n",
    "(x_train, y_train), (x_test, y_test) = mnist.load_data()\n",
    "\n",
    "# Нормализуем данные и изменяем форму\n",
    "x_train = x_train.reshape(-1, 28, 28, 1).astype('float32') / 255.0\n",
    "x_test = x_test.reshape(-1, 28, 28, 1).astype('float32') / 255.0\n",
    "y_train = to_categorical(y_train, 10)\n",
    "y_test = to_categorical(y_test, 10)\n",
    "\n",
    "# 2. Создаем модель с использованием функционального API\n",
    "input_layer = Input(shape=(28, 28, 1))\n",
    "x = Conv2D(32, (3, 3), activation='relu')(input_layer)\n",
    "x = MaxPooling2D((2, 2))(x)\n",
    "x = Conv2D(64, (3, 3), activation='relu')(x)\n",
    "x = MaxPooling2D((2, 2))(x)\n",
    "x = Flatten()(x)\n",
    "x = Dropout(0.5)(x)\n",
    "x = Dense(128, activation='relu')(x)\n",
    "x = Dropout(0.5)(x)\n",
    "output_layer = Dense(10, activation='softmax')(x)\n",
    "\n",
    "model = Model(inputs=input_layer, outputs=output_layer)\n",
    "\n",
    "# Компиляция модели\n",
    "model.compile(optimizer='adam', loss='categorical_crossentropy', metrics=['accuracy'])\n",
    "\n",
    "# 3. Обучение модели\n",
    "print(\"Training the model...\")\n",
    "model.fit(x_train, y_train, validation_data=(x_test, y_test), epochs=2, batch_size=64)\n",
    "\n",
    "# 4. Проверяем входы и выходы\n",
    "print(\"Model input:\", model.input)\n",
    "print(\"Model output:\", model.output)\n",
    "\n"
   ],
   "outputs": [
    {
     "name": "stdout",
     "output_type": "stream",
     "text": [
      "Training the model...\n",
      "Epoch 1/2\n",
      "\u001B[1m938/938\u001B[0m \u001B[32m━━━━━━━━━━━━━━━━━━━━\u001B[0m\u001B[37m\u001B[0m \u001B[1m10s\u001B[0m 10ms/step - accuracy: 0.8029 - loss: 0.5898 - val_accuracy: 0.9821 - val_loss: 0.0550\n",
      "Epoch 2/2\n",
      "\u001B[1m938/938\u001B[0m \u001B[32m━━━━━━━━━━━━━━━━━━━━\u001B[0m\u001B[37m\u001B[0m \u001B[1m9s\u001B[0m 10ms/step - accuracy: 0.9654 - loss: 0.1150 - val_accuracy: 0.9869 - val_loss: 0.0371\n",
      "Model input: <KerasTensor shape=(None, 28, 28, 1), dtype=float32, sparse=False, name=keras_tensor_20>\n",
      "Model output: <KerasTensor shape=(None, 10), dtype=float32, sparse=False, name=keras_tensor_29>\n",
      "\u001B[1m1/1\u001B[0m \u001B[32m━━━━━━━━━━━━━━━━━━━━\u001B[0m\u001B[37m\u001B[0m \u001B[1m0s\u001B[0m 37ms/step\n"
     ]
    },
    {
     "data": {
      "text/plain": [
       "<Figure size 2000x2000 with 6 Axes>"
      ],
      "image/png": "[encoded data removed]"
     },
     "metadata": {},
     "output_type": "display_data"
    }
   ],
   "execution_count": 4
  },
  {
   "metadata": {
    "ExecuteTime": {
     "end_time": "2024-12-25T22:59:52.795069Z",
     "start_time": "2024-12-25T22:59:52.636849Z"
    }
   },
   "cell_type": "code",
   "source": [
    "# 5. Создаем промежуточную модель для извлечения активаций\n",
    "conv_layer_outputs = [layer.output for layer in model.layers if isinstance(layer, Conv2D)]\n",
    "activation_model = Model(inputs=model.input, outputs=conv_layer_outputs)\n",
    "\n",
    "# 6. Извлекаем активации для одного изображения\n",
    "example_image = x_test[2].reshape(1, 28, 28, 1)\n",
    "activations = activation_model.predict(example_image)\n",
    "\n",
    "# 7. Визуализация активаций первого сверточного слоя\n",
    "first_layer_activation = activations[0]\n",
    "n_filters = first_layer_activation.shape[-1]\n",
    "\n",
    "fig, axes = plt.subplots(1, 6, figsize=(20, 20))\n",
    "for i in range(6):  # Показываем первые 6 фильтров\n",
    "    axes[i].imshow(first_layer_activation[0, :, :, i], cmap='viridis')\n",
    "    axes[i].axis('off')\n",
    "plt.show()\n"
   ],
   "id": "69499e8aade5b33",
   "outputs": [
    {
     "name": "stdout",
     "output_type": "stream",
     "text": [
      "WARNING:tensorflow:6 out of the last 6 calls to <function TensorFlowTrainer.make_predict_function.<locals>.one_step_on_data_distributed at 0x7e8d69c55f80> triggered tf.function retracing. Tracing is expensive and the excessive number of tracings could be due to (1) creating @tf.function repeatedly in a loop, (2) passing tensors with different shapes, (3) passing Python objects instead of tensors. For (1), please define your @tf.function outside of the loop. For (2), @tf.function has reduce_retracing=True option that can avoid unnecessary retracing. For (3), please refer to https://www.tensorflow.org/guide/function#controlling_retracing and https://www.tensorflow.org/api_docs/python/tf/function for  more details.\n",
      "\u001B[1m1/1\u001B[0m \u001B[32m━━━━━━━━━━━━━━━━━━━━\u001B[0m\u001B[37m\u001B[0m \u001B[1m0s\u001B[0m 42ms/step\n"
     ]
    },
    {
     "data": {
      "text/plain": [
       "<Figure size 2000x2000 with 6 Axes>"
      ],
      "image/png": "[encoded data removed]"
     },
     "metadata": {},
     "output_type": "display_data"
    }
   ],
   "execution_count": 8
  },
  {
   "metadata": {},
   "cell_type": "code",
   "outputs": [],
   "execution_count": null,
   "source": "",
   "id": "a7cd8723c11928f9"
  }
 ],
 "metadata": {
  "kernelspec": {
   "display_name": "Python 3",
   "language": "python",
   "name": "python3"
  },
  "language_info": {
   "codemirror_mode": {
    "name": "ipython",
    "version": 2
   },
   "file_extension": ".py",
   "mimetype": "text/x-python",
   "name": "python",
   "nbconvert_exporter": "python",
   "pygments_lexer": "ipython2",
   "version": "2.7.6"
  }
 },
 "nbformat": 4,
 "nbformat_minor": 5
}
